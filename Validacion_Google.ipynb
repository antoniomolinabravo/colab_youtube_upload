{
  "nbformat": 4,
  "nbformat_minor": 0,
  "metadata": {
    "colab": {
      "provenance": []
    },
    "kernelspec": {
      "name": "python3",
      "display_name": "Python 3"
    },
    "language_info": {
      "name": "python"
    }
  },
  "cells": [
    {
      "cell_type": "code",
      "execution_count": 1,
      "metadata": {
        "id": "u3DhyN2scI8a"
      },
      "outputs": [],
      "source": [
        "#!/usr/bin/python\n",
        "\n",
        "#https://github.com/agent87/youtube-up\n",
        "#https://github.com/tokland/youtube-upload/\n",
        "#https://stackoverflow.com/questions/56007268/upload-videos-to-youtube-on-google-colab\n",
        "#https://github.com/porjo/youtubeuploader\n",
        "\n",
        "import argparse\n",
        "#import httplib\n",
        "import httplib2\n",
        "import os\n",
        "import random\n",
        "import time\n",
        "\n",
        "import google.oauth2.credentials\n",
        "import google_auth_oauthlib.flow\n",
        "from googleapiclient.discovery import build\n",
        "from googleapiclient.errors import HttpError\n",
        "from googleapiclient.http import MediaFileUpload\n",
        "from google_auth_oauthlib.flow import InstalledAppFlow\n",
        "\n",
        "\n",
        "httplib2.RETRIES = 1\n",
        "\n",
        "MAX_RETRIES = 10\n",
        "\n",
        "RETRIABLE_EXCEPTIONS = (httplib2.HttpLib2Error, IOError)\n",
        "#, httplib.NotConnected\n",
        "#,\n",
        "#  httplib.IncompleteRead, httplib.ImproperConnectionState,\n",
        "#  httplib.CannotSendRequest, httplib.CannotSendHeader,\n",
        "#  httplib.ResponseNotReady, httplib.BadStatusLine)\n",
        "\n",
        "\n",
        "RETRIABLE_STATUS_CODES = [500, 502, 503, 504]\n",
        "\n",
        "\n",
        "CLIENT_SECRETS_FILE = \"client_secret.json\" #raw_input('Enter your client credential secret file path:\\n')\n",
        "MEDIA_FILE_PATH = \"./\" #raw_input('Enter the path of the video you wish to upload:\\n')\n",
        "\n",
        "SCOPES = ['https://www.googleapis.com/auth/youtube.upload']\n",
        "API_SERVICE_NAME = 'youtube'\n",
        "API_VERSION = 'v3'\n",
        "\n",
        "VALID_PRIVACY_STATUSES = ('public', 'private', 'unlisted')\n",
        "\n",
        "\n",
        "# Authorize the request and store authorization credentials.\n",
        "def get_authenticated_service():\n",
        "  flow = InstalledAppFlow.from_client_secrets_file(CLIENT_SECRETS_FILE, SCOPES)\n",
        "  credentials = flow.run_console()\n",
        "  return build(API_SERVICE_NAME, API_VERSION, credentials = credentials)\n",
        "\n"
      ]
    },
    {
      "cell_type": "code",
      "source": [
        "youtube = get_authenticated_service()"
      ],
      "metadata": {
        "colab": {
          "base_uri": "https://localhost:8080/"
        },
        "id": "RKPRfYQ5c5J7",
        "outputId": "81d0c0ce-c12a-411e-8ccf-32d7256fc879"
      },
      "execution_count": 2,
      "outputs": [
        {
          "name": "stdout",
          "output_type": "stream",
          "text": [
            "Please visit this URL to authorize this application: https://accounts.google.com/o/oauth2/auth?response_type=code&client_id=655932566158-q7aunc43ll03efscjhmpcupajbo1an36.apps.googleusercontent.com&redirect_uri=urn%3Aietf%3Awg%3Aoauth%3A2.0%3Aoob&scope=https%3A%2F%2Fwww.googleapis.com%2Fauth%2Fyoutube.upload&state=hYe5iM9ZJsKit6oiESPY7BKXkkrqN9&prompt=consent&access_type=offline\n",
            "Enter the authorization code: 4/1AfgeXvvbQSAmA568lcV9HloAoUrMiar4z5782tzBUr6ikpiNEG0-wiFQqW0\n"
          ]
        },
        {
          "output_type": "execute_result",
          "data": {
            "text/plain": [
              "<googleapiclient.discovery.Resource at 0x7f31f35a88d0>"
            ]
          },
          "metadata": {},
          "execution_count": 2
        }
      ]
    },
    {
      "cell_type": "code",
      "source": [
        "!python upload2.py --file /content/drive/MyDrive/DINTA/Clase21/result.mp4"
      ],
      "metadata": {
        "colab": {
          "base_uri": "https://localhost:8080/"
        },
        "id": "f0A_UZ_rqqKD",
        "outputId": "50238daf-690d-444e-b508-f2ce9becb192"
      },
      "execution_count": 16,
      "outputs": [
        {
          "output_type": "stream",
          "name": "stdout",
          "text": [
            "Please visit this URL to authorize this application: https://accounts.google.com/o/oauth2/auth?response_type=code&client_id=655932566158-q7aunc43ll03efscjhmpcupajbo1an36.apps.googleusercontent.com&redirect_uri=urn%3Aietf%3Awg%3Aoauth%3A2.0%3Aoob&scope=https%3A%2F%2Fwww.googleapis.com%2Fauth%2Fyoutube.upload&state=qiud4jy7eQO52XggJe8QCuYXwVT0EK&prompt=consent&access_type=offline\n",
            "Enter the authorization code: 4/1AfgeXvuVU1IvhQLJiZurxl-z2LpDWG8CP4AZdULDmxiltzONScZrAdamy9E\n",
            "Uploading file...\n",
            "Video id \"-077O5fWUpI\" was successfully uploaded.\n"
          ]
        }
      ]
    },
    {
      "cell_type": "code",
      "source": [
        "!ls /content/drive/MyDrive/DINTA/Clase21"
      ],
      "metadata": {
        "colab": {
          "base_uri": "https://localhost:8080/"
        },
        "id": "-D7jXHvpunGt",
        "outputId": "38a451a9-82ed-44a5-e4b9-f3b0327a31dd"
      },
      "execution_count": 14,
      "outputs": [
        {
          "output_type": "stream",
          "name": "stdout",
          "text": [
            "link.mp4  result.mp4\n"
          ]
        }
      ]
    },
    {
      "cell_type": "code",
      "source": [
        "from google.colab import drive\n",
        "drive.mount('/content/drive')"
      ],
      "metadata": {
        "colab": {
          "base_uri": "https://localhost:8080/"
        },
        "id": "DpEf0UbfpnSV",
        "outputId": "f936bacb-f6ba-4ec0-c380-933d648932d7"
      },
      "execution_count": 3,
      "outputs": [
        {
          "output_type": "stream",
          "name": "stdout",
          "text": [
            "Mounted at /content/drive\n"
          ]
        }
      ]
    },
    {
      "cell_type": "code",
      "source": [
        "/content/drive/MyDrive/DINTA/Clase21"
      ],
      "metadata": {
        "id": "vtnEJdNMprvY"
      },
      "execution_count": null,
      "outputs": []
    },
    {
      "cell_type": "code",
      "source": [
        "#!/usr/bin/python\n",
        "\n",
        "import argparse\n",
        "#import httplib\n",
        "import httplib2\n",
        "import os\n",
        "import random\n",
        "import time\n",
        "\n",
        "import google.oauth2.credentials\n",
        "import google_auth_oauthlib.flow\n",
        "from googleapiclient.discovery import build\n",
        "from googleapiclient.errors import HttpError\n",
        "from googleapiclient.http import MediaFileUpload\n",
        "from google_auth_oauthlib.flow import InstalledAppFlow\n",
        "\n",
        "\n",
        "httplib2.RETRIES = 1\n",
        "\n",
        "MAX_RETRIES = 10\n",
        "\n",
        "RETRIABLE_EXCEPTIONS = (httplib2.HttpLib2Error, IOError)\n",
        "#, httplib.NotConnected,\n",
        "#  httplib.IncompleteRead, httplib.ImproperConnectionState,\n",
        "#  httplib.CannotSendRequest, httplib.CannotSendHeader,\n",
        "#  httplib.ResponseNotReady, httplib.BadStatusLine)\n",
        "\n",
        "\n",
        "RETRIABLE_STATUS_CODES = [500, 502, 503, 504]\n",
        "\n",
        "\n",
        "CLIENT_SECRETS_FILE = 'client_secret.json' #raw_input('Enter your client credential secret \n",
        "\n",
        "file path:\\n')\n",
        "MEDIA_FILE_PATH = '/content/drive/MyDrive/DINTA/Clase21/result.mp4' #raw_input('Enter the \n",
        "\n",
        "path of the video you wish to upload:\\n')\n",
        "\n",
        "SCOPES = ['https://www.googleapis.com/auth/youtube.upload']\n",
        "API_SERVICE_NAME = 'youtube'\n",
        "API_VERSION = 'v3'\n",
        "\n",
        "VALID_PRIVACY_STATUSES = ('public', 'private', 'unlisted')\n",
        "\n",
        "\n",
        "# Authorize the request and store authorization credentials.\n",
        "def get_authenticated_service():\n",
        "  flow = InstalledAppFlow.from_client_secrets_file(CLIENT_SECRETS_FILE, SCOPES)\n",
        "  credentials = flow.run_console()\n",
        "  return build(API_SERVICE_NAME, API_VERSION, credentials = credentials)\n",
        "\n",
        "def initialize_upload(youtube, options):\n",
        "  tags = None\n",
        "  if options.keywords:\n",
        "    tags = options.keywords.split(',')\n",
        "\n",
        "  body=dict(\n",
        "    snippet=dict(\n",
        "      title=options.title,\n",
        "      description=options.description,\n",
        "      tags=tags,\n",
        "      categoryId=options.category\n",
        "    ),\n",
        "    status=dict(\n",
        "      privacyStatus=options.privacyStatus\n",
        "    )\n",
        "  )\n",
        "\n",
        "  insert_request = youtube.videos().insert(\n",
        "    part=','.join(body.keys()),\n",
        "    body=body,\n",
        "\n",
        "    media_body=MediaFileUpload(MEDIA_FILE_PATH, chunksize=-1, resumable=True)\n",
        "  )\n",
        "\n",
        "  resumable_upload(insert_request)\n",
        "\n",
        "def resumable_upload(request):\n",
        "  response = None\n",
        "  error = None\n",
        "  retry = 0\n",
        "  while response is None:\n",
        "    try:\n",
        "      print ('Uploading file...')\n",
        "      status, response = request.next_chunk()\n",
        "      if response is not None:\n",
        "        if 'id' in response:\n",
        "          print ('Video id \"%s\" was successfully uploaded.' % response['id'])\n",
        "        else:\n",
        "          exit('The upload failed with an unexpected response: %s' % response)\n",
        "    except HttpError as e:\n",
        "      if e.resp.status in RETRIABLE_STATUS_CODES:\n",
        "        error = 'A retriable HTTP error %d occurred:\\n%s' % (e.resp.status,\n",
        "                                                             e.content)\n",
        "      else:\n",
        "        raise\n",
        "    except RETRIABLE_EXCEPTIONS as e:\n",
        "      error = 'A retriable error occurred: %s' % e\n",
        "\n",
        "    if error is not None:\n",
        "      print (error)\n",
        "      retry += 1\n",
        "      if retry > MAX_RETRIES:\n",
        "        exit('No longer attempting to retry.')\n",
        "\n",
        "      max_sleep = 2 ** retry\n",
        "      sleep_seconds = random.random() * max_sleep\n",
        "      print ('Sleeping %f seconds and then retrying...' % sleep_seconds)\n",
        "      time.sleep(sleep_seconds)\n",
        "\n",
        "if __name__ == '__main__':\n",
        "  parser = argparse.ArgumentParser()\n",
        "  parser.add_argument('--file', required=False, help='Video file to upload')\n",
        "  parser.add_argument('--title', help='Video title', default='Test Title')\n",
        "  parser.add_argument('--description', help='Video description',\n",
        "    default='Test Description')\n",
        "  parser.add_argument('--category', default='22',\n",
        "    help='Numeric video category. ' +\n",
        "      'See https://developers.google.com/youtube/v3/docs/videoCategories/list')\n",
        "  parser.add_argument('--keywords', help='Video keywords, comma separated',\n",
        "    default='')\n",
        "  parser.add_argument('--privacyStatus', choices=VALID_PRIVACY_STATUSES,\n",
        "    default='unlisted', help='Video privacy status.')\n",
        "  args = parser.parse_args()\n",
        "\n",
        "  youtube = get_authenticated_service()\n",
        "\n",
        "  try:\n",
        "    initialize_upload(youtube, args)\n",
        "  except HttpError as e:\n",
        "    print ('An HTTP error %d occurred:\\n%s' % e.resp.status, e.content)"
      ],
      "metadata": {
        "id": "yBR-UTBaqJ7X"
      },
      "execution_count": null,
      "outputs": []
    }
  ]
}